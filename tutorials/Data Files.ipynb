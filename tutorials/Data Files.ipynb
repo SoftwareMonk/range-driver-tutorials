{
 "cells": [
  {
   "cell_type": "markdown",
   "id": "d88e4c65",
   "metadata": {},
   "source": [
    "# Data Preparation\n",
    "* Etablish folder and file structure for detection and environmental data sources\n",
    "* The main tables used in the analysis are:\n",
    "    * detection events,\n",
    "    * meta data, and\n",
    "    * environmental data.\n",
    "\n",
    "To work with these tables, information has to be provided under specific column names and formats. (See sections below)\n",
    "\n",
    "\n",
    "Detection data: detections + meta data, how to access you own detection file: a) use existing loaders, b) extend loaders environmental data: kadlu (lightweight discussion, point to kadlu docs), netcdf files. Low-level loading (load netcdf, do own interpolation), brief version (just use the config file) what happens if my data is not netcdf or kadlu?\n",
    "\n",
    "\n",
    "Which files and field names are expected to contain specific information for the data loader and other processing modules. \n",
    "\n",
    "## Detection Events\n",
    "Field names (e.g. lat lon), configurability, and documentation\n",
    "\n",
    "Detection data: detections + meta data, how to access you own detection file: a) use existing loaders, b) extend loaders \n",
    "\n",
    "## Metadata\n",
    "Field names (e.g. lat lon), configurability, and documentation\n",
    "\n",
    "## Environmental Data\n",
    "Environmental data can be provided in NetCDF format or for specific environmental variables can be automatically fetched using range_driver and kadlu. Any data provided as a NetCDF should include the following fields: \n",
    "* `lat`\n",
    "* `lon`\n",
    "* ...\n",
    "\n",
    "environmental data: kadlu (lightweight discussion, point to kadlu docs), netcdf files. Low-level loading (load netcdf, do own interpolation), brief version (just use the config file) what happens if my data is not netcdf or kadlu?\n",
    "\n",
    "\n",
    "\n",
    "\n",
    "Know which files and field names are expected to contain specific information for the data loader and other processing modules\n",
    "\n",
    "The main tables used in the analysis are:\n",
    "* detection events,\n",
    "* meta data, and\n",
    "* environmental data.\n",
    "\n",
    "To work with these tables, information has to be provided under specific column names and formats.\n",
    "\n",
    "Field names (e.g. lat lon), configurability, and documentation\n",
    "\n",
    "Detection data: detections + meta data, how to access you own detection file: a) use existing loaders, b) extend loaders environmental data: kadlu (lightweight discussion, point to kadlu docs), netcdf files. Low-level loading (load netcdf, do own interpolation), brief version (just use the config file) what happens if my data is not netcdf or kadlu?\n",
    "\n",
    "TODO: The bullets in the workflow above to add further detail component sections (partly done)"
   ]
  },
  {
   "cell_type": "code",
   "execution_count": null,
   "id": "2fb19ad2",
   "metadata": {},
   "outputs": [],
   "source": []
  }
 ],
 "metadata": {
  "kernelspec": {
   "display_name": "Python 3",
   "language": "python",
   "name": "python3"
  },
  "language_info": {
   "codemirror_mode": {
    "name": "ipython",
    "version": 3
   },
   "file_extension": ".py",
   "mimetype": "text/x-python",
   "name": "python",
   "nbconvert_exporter": "python",
   "pygments_lexer": "ipython3",
   "version": "3.8.8"
  }
 },
 "nbformat": 4,
 "nbformat_minor": 5
}
