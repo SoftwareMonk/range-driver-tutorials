{
 "cells": [
  {
   "cell_type": "markdown",
   "id": "c01fd110",
   "metadata": {},
   "source": [
    "# Data Visualization\n",
    "Invoke different views and visualizations to study relationships among variables and their effect on variation in detection performance. Perform further analyses and model building using the combined dataframe of detection and environmental data, conider event based & binned data. \n",
    "\n",
    "## Built-In Reports & Visualizations\n",
    "### Boundary Map\n",
    "### Bivariate Distributions Plots\n",
    "### Heatmaps\n",
    "\n",
    "## Other\n",
    "Use other Python (or R) libraries to create other visualizations. Libraries like seaborn provide a simple interface for plotting. "
   ]
  },
  {
   "cell_type": "code",
   "execution_count": null,
   "id": "6f2ea1aa",
   "metadata": {},
   "outputs": [],
   "source": []
  }
 ],
 "metadata": {
  "kernelspec": {
   "display_name": "Python 3",
   "language": "python",
   "name": "python3"
  },
  "language_info": {
   "codemirror_mode": {
    "name": "ipython",
    "version": 3
   },
   "file_extension": ".py",
   "mimetype": "text/x-python",
   "name": "python",
   "nbconvert_exporter": "python",
   "pygments_lexer": "ipython3",
   "version": "3.8.8"
  }
 },
 "nbformat": 4,
 "nbformat_minor": 5
}
