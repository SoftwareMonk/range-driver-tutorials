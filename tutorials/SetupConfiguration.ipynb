{
 "cells": [
  {
   "cell_type": "markdown",
   "id": "07535874",
   "metadata": {},
   "source": [
    "# Study Setup & Configuration\n",
    "\n",
    "I think this notebook needs to take care of explaining how a study should be setup. In particularly, we need to outline (1) how to use the configuration files and (2) what data is needed to make this run and what that data needs to look at. \n",
    "\n",
    "## Intro to Configuration Files\n",
    "Configuration options are organized in YAML files - text files that contain key: value pairs of strings, numbers, and lists, where keys can be nested via indentation, to organize information hierarchically. We use YAML config files to specify the settings used when running range_driver.\n",
    "\n",
    "## Fields\n",
    "### Required Fields\n",
    "### Optional Fields\n",
    "\n",
    "## Using Multiple Configuration Files\n",
    "To separate the definitions of default values and study specific settings, configurations can be loaded in layers, where a later file can update settings from an earlier file. It is also possible to merge all information into a single config file, if that is preferred.\n",
    "\n",
    "YAML configuration in layers: system defaults, view settings (merge with system?), study specific\n",
    "\n",
    "## Choosing Study Boundaries\n",
    "This will need to be updated with Steven's work on multiple boundaries for different data sources. \n",
    "\n",
    "Specific Qs I would have as a user: \n",
    "* Why are there so many configuration files? How do they get used together?\n",
    "* How do I read the configuration files? \n",
    "* Can I add anything to the config file? Relatedly -- what config options exist? \n",
    "\n"
   ]
  },
  {
   "cell_type": "code",
   "execution_count": null,
   "id": "dfefa3b2",
   "metadata": {},
   "outputs": [],
   "source": []
  }
 ],
 "metadata": {
  "kernelspec": {
   "display_name": "Python 3",
   "language": "python",
   "name": "python3"
  },
  "language_info": {
   "codemirror_mode": {
    "name": "ipython",
    "version": 3
   },
   "file_extension": ".py",
   "mimetype": "text/x-python",
   "name": "python",
   "nbconvert_exporter": "python",
   "pygments_lexer": "ipython3",
   "version": "3.8.8"
  }
 },
 "nbformat": 4,
 "nbformat_minor": 5
}
