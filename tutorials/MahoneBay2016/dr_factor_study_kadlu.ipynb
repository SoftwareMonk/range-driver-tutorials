{
 "cells": [
  {
   "cell_type": "code",
   "execution_count": null,
   "metadata": {},
   "outputs": [],
   "source": [
    "# HTML output for this notebook can be produced using\n",
    "# jupyter nbconvert --to html --no-input notebook_name.ipynb\n",
    "# or\n",
    "# jupyter nbconvert --to pdf --no-input notebook_name.ipynb\n",
    "# edit title and authors in notebook metadata (e.g. jupyter lab / notebook tools / advanced)"
   ]
  },
  {
   "cell_type": "markdown",
   "metadata": {},
   "source": [
    "# Mahone Bay"
   ]
  },
  {
   "cell_type": "markdown",
   "metadata": {},
   "source": [
    "See [TODO.md](../TODO.md) for outstanding items."
   ]
  },
  {
   "cell_type": "markdown",
   "metadata": {},
   "source": [
    "This notebook contains the same functionality as `tidal_analysis_rt.ipynb`, but with all detail code extracted into the `../acoustic_tracking` package code folder.  For this notebook to run properly, ensure:\n",
    "* `acoustic_tracking` is downloaded and installed on your local machine according to the installation instructions\n",
    "* The `acoustic_env` conda environment has been activated"
   ]
  },
  {
   "cell_type": "markdown",
   "metadata": {},
   "source": [
    "Analysis of acoustic tracking performance using range test data obtained in Mahone Bay near Halifax, NS, by OTN field experiments during March-April 2016.\n",
    "\n",
    "Range test performance is determined with two methods:\n",
    "\n",
    "  1. by calculating interval lenghts between adjacent detection events,\n",
    "  1. by counting the number of detection events within some fixed time interval and normalizing against the expected number of detections.\n",
    "\n",
    "Components of this notebook:\n",
    "\n",
    " * process tidal data for the time period considering high/low tide times and the observed heights\n",
    " * determine tidal phase timing\n",
    " * perform cosine interpolation of heights\n",
    " * correlate detection performance against tidal phase\n",
    "\n",
    "**Data:** Beyond tidal data, environmental variables have been collected for 3 hour intervals. Water velocity is used from those variables to determine its potential effect on detection performance.\n",
    "\n",
    "Summary plots are presented separately for each receiver / transmitter combination at the end of this notebook."
   ]
  },
  {
   "cell_type": "code",
   "execution_count": null,
   "metadata": {
    "ExecuteTime": {
     "end_time": "2020-11-17T18:00:23.463887Z",
     "start_time": "2020-11-17T18:00:20.689927Z"
    }
   },
   "outputs": [],
   "source": [
    "import range_driver as rd\n",
    "import copy\n",
    "import pandas as pd\n",
    "import kadlu\n",
    "from datetime import datetime\n",
    "import numpy as np\n",
    "import sys\n",
    "from scipy.interpolate import griddata\n",
    "import matplotlib.pyplot as plt\n",
    "from IPython.display import display, Markdown\n",
    "from matplotlib.pyplot import rcParams\n",
    "\n",
    "# Setup matplotlib inline plotting\n",
    "%matplotlib inline\n",
    "rd.mpl_set_notebook_params()\n",
    "show_details = False\n",
    "\n",
    "# Set the kadlu storage location to point to cached data\n",
    "kadlu.storage_cfg(setdir=f'{rd.utils.repo_path()}/data/MahoneBay2016/kadlu_data/')"
   ]
  },
  {
   "cell_type": "code",
   "execution_count": null,
   "metadata": {},
   "outputs": [],
   "source": [
    "#rd.reload_acoustic()"
   ]
  },
  {
   "cell_type": "code",
   "execution_count": null,
   "metadata": {},
   "outputs": [],
   "source": [
    "baseconfig = rd.yload(rd.load_file(\"configs/base_config.yaml\"))\n",
    "viewconfig = rd.yload(rd.load_file(\"configs/view_config.yaml\"))\n",
    "rd.deep_update(baseconfig, viewconfig)\n",
    "\n",
    "rawconfig = rd.yload(rd.load_file(\"configs/mahone_config.yaml\"))\n",
    "config = rd.merge_dicts(baseconfig, rawconfig)\n",
    "rd.prepare_config(config)"
   ]
  },
  {
   "cell_type": "code",
   "execution_count": null,
   "metadata": {},
   "outputs": [],
   "source": [
    "#print(at.ydump(config))"
   ]
  },
  {
   "cell_type": "code",
   "execution_count": null,
   "metadata": {
    "tags": [
     "remove_cell"
    ]
   },
   "outputs": [],
   "source": [
    "import kadlu\n",
    "from datetime import datetime\n",
    "\n",
    "import pandas as pd\n",
    "import numpy as np\n",
    "from IPython.display import Markdown, display\n",
    "import matplotlib.pyplot as plt\n",
    "import seaborn as sns\n",
    "\n",
    "# mpl.use('module://ipympl.backend_nbagg')\n",
    "#%matplotlib widget\n",
    "%matplotlib inline\n",
    "rd.mpl_set_notebook_params()\n",
    "\n",
    "show_details = config.settings.show_details"
   ]
  },
  {
   "cell_type": "markdown",
   "metadata": {},
   "source": [
    "## Read Raw Detection Data & Metadata"
   ]
  },
  {
   "cell_type": "code",
   "execution_count": null,
   "metadata": {},
   "outputs": [],
   "source": [
    "# rd.reload_acoustic()"
   ]
  },
  {
   "cell_type": "code",
   "execution_count": null,
   "metadata": {},
   "outputs": [],
   "source": [
    "detection_df, mdb = rd.read_via_config(config)"
   ]
  },
  {
   "cell_type": "code",
   "execution_count": null,
   "metadata": {},
   "outputs": [],
   "source": [
    "if config.settings.otn_transmitter_patch:\n",
    "    rd.otn_transmitter_patch_1(mdb)"
   ]
  },
  {
   "cell_type": "code",
   "execution_count": null,
   "metadata": {},
   "outputs": [],
   "source": [
    "df_dets, df_inits, _ = rd.process_intervals(detection_df, mdb)"
   ]
  },
  {
   "cell_type": "code",
   "execution_count": null,
   "metadata": {},
   "outputs": [],
   "source": [
    "detection_df, event_bin_split = rd.detection_rate_grid(df_dets, config.settings.time_bin_length, mdb)\n",
    "events_df, bins_df = rd.split_by_index(detection_df, event_bin_split)"
   ]
  },
  {
   "cell_type": "markdown",
   "metadata": {},
   "source": [
    "## Group detection data by (Receiver, Transmitter) pairs\n",
    "\n",
    "A name is produced for each pairing that reflects their configuration, such as power level, tag family, distance - as determined by parsing the metadata."
   ]
  },
  {
   "cell_type": "code",
   "execution_count": null,
   "metadata": {},
   "outputs": [],
   "source": [
    "deploy_lat_lon = mdb.deploy.groupby('STATION_NO')[['DEPLOY_LAT','DEPLOY_LONG']].nth(0)\n",
    "mdb.station_dists_m = rd.calc_station_dists_m(deploy_lat_lon)\n",
    "\n",
    "if \"Receiver/Transmitter\" not in mdb.rt_groups.columns:\n",
    "    rd.add_rt_group_info(events_df, mdb)"
   ]
  },
  {
   "cell_type": "code",
   "execution_count": null,
   "metadata": {},
   "outputs": [],
   "source": [
    "if config.settings.show_details:\n",
    "    rd.report_station_info(mdb)"
   ]
  },
  {
   "cell_type": "code",
   "execution_count": null,
   "metadata": {},
   "outputs": [],
   "source": [
    "if config.view.show_dr_plots:\n",
    "    rd.displaymd(\"# Detection rate plots for data screening\")\n",
    "    for gn, tgroup in bins_df.reset_index().groupby(['Receiver','Transmitter']):\n",
    "        rd.plot_group_dr(gn, tgroup, mdb)\n",
    "        plt.show()"
   ]
  },
  {
   "cell_type": "markdown",
   "metadata": {},
   "source": [
    "## Detection data is merged with environmental variables from kadlu\n",
    "\n",
    "[Kadlu](https://docs.meridian.cs.dal.ca/kadlu/index.html#) is a Python package which provides functionality for fetching and interpolating environmental data related to ocean ambient nose levels. The `acoustic_tracking` package provides users with the option to integrate environmental data from Kadlu with their own detection datasets. \n",
    "\n",
    "\n",
    "To extract environmental data from kadlu, you will need to specify (1) data sources and (2) bounds. Then, using these specifications you can use the `add_kadlu_env_data()` function to automatically extract and interpolate data using the kadlu Python package. "
   ]
  },
  {
   "cell_type": "markdown",
   "metadata": {},
   "source": [
    "### Data Sources\n",
    "A `sources` dictionary is used to specify the variables and data sources you want to retrieve using kadlu. To see a high level overview of available data sources, execute the command below. \n",
    "```python\n",
    "print(kadlu.source_map)\n",
    "``` "
   ]
  },
  {
   "cell_type": "code",
   "execution_count": null,
   "metadata": {
    "ExecuteTime": {
     "end_time": "2020-11-17T18:00:31.775521Z",
     "start_time": "2020-11-17T18:00:31.772499Z"
    }
   },
   "outputs": [],
   "source": [
    "print(kadlu.source_map)"
   ]
  },
  {
   "cell_type": "code",
   "execution_count": null,
   "metadata": {
    "ExecuteTime": {
     "end_time": "2020-11-17T18:47:09.169759Z",
     "start_time": "2020-11-17T18:47:09.165447Z"
    }
   },
   "outputs": [],
   "source": [
    "# List Sources\n",
    "sources = config.data.sources"
   ]
  },
  {
   "cell_type": "markdown",
   "metadata": {},
   "source": [
    "### Data Boundaries\n",
    "A `bounds` dictionary is used to specify the spatial and temporal boundaries for which you want to retrieve data. A `north`, `south`, `east`, and `west` value are provided to specify geospatial boundaries, while a `start` and `end` are used to specify temporal boundaries. Optionally, `top` and `bottom` values can be used to limit data to specific depths. "
   ]
  },
  {
   "cell_type": "code",
   "execution_count": null,
   "metadata": {
    "ExecuteTime": {
     "end_time": "2020-11-17T18:50:51.637455Z",
     "start_time": "2020-11-17T18:50:51.632573Z"
    }
   },
   "outputs": [],
   "source": [
    "# Define Bounds\n",
    "# Mahone Bay, NS\n",
    "\n",
    "lat_center = 44.5541333\n",
    "north_offset = 0.5\n",
    "south_offset = 2\n",
    "\n",
    "lon_center = -64.17682\n",
    "east_offset = 2\n",
    "west_offset = 2\n",
    "\n",
    "bounds = dict(start=datetime(2016, 3, 9), end=datetime(2016,3,11),\n",
    "              south=lat_center - south_offset, west=lon_center - west_offset, \n",
    "              north=lat_center + north_offset, east= lon_center + east_offset, \n",
    "              top=0, bottom=0)\n",
    "\n",
    "# OR\n",
    "\n",
    "bounds = config.bounds\n",
    "\n",
    "print(bounds)"
   ]
  },
  {
   "cell_type": "markdown",
   "metadata": {},
   "source": [
    "Sometimes, it can be helpful to have a map visualization of the boundaries you are setting. Here, you can use the `plot_bounds` function to see the boundaries you have specified. Optionally, you can provide receiver locations and metadata to the `plot_bounds` function as well. "
   ]
  },
  {
   "cell_type": "code",
   "execution_count": null,
   "metadata": {
    "ExecuteTime": {
     "end_time": "2020-11-17T18:47:18.647930Z",
     "start_time": "2020-11-17T18:47:18.570577Z"
    }
   },
   "outputs": [],
   "source": [
    "# Retrieve receiver information\n",
    "receiver_info = detection_df[['Receiver.lat', 'Receiver.lon', 'Receiver.ID', \n",
    "                              'Receiver', 'Receiver.depth']].drop_duplicates()\n",
    "receiver_locations_df = detection_df[['Receiver.lat', 'Receiver.lon']].drop_duplicates()\n",
    "receiver_locations = list(zip(receiver_locations_df['Receiver.lat'], receiver_locations_df['Receiver.lon']))\n",
    "\n",
    "try:\n",
    "    node_locs = set(list(zip(kadlu_result[1], kadlu_result[2])))\n",
    "except:\n",
    "    node_locs = []\n",
    "    print(\"Warning: no node locations available. Consider to run this cell again, after the next cell set result approprietly.\")\n",
    "\n",
    "rd.plot_bounds(bounds, receiver_locations=receiver_locations, \n",
    "               receiver_info=receiver_info, node_locations=node_locs);"
   ]
  },
  {
   "cell_type": "markdown",
   "metadata": {},
   "source": [
    "### Add Environmental Variables from kadlu\n"
   ]
  },
  {
   "cell_type": "code",
   "execution_count": null,
   "metadata": {},
   "outputs": [],
   "source": [
    "df_detections_env, kadlu_result = rd.add_kadlu_env_data(bounds, sources, detection_df)"
   ]
  },
  {
   "cell_type": "markdown",
   "metadata": {},
   "source": [
    "<a id='custom'></a>\n",
    "## Reading Custom Data\n",
    "\n",
    "In addition to integrating environmental data from Kadlu, acoustic_tracking allows you to integrate environmental data contained from custom NetCDF files. This allows users to leverage data from custom datasets which aren't available through Kadlu but might be relevant to the range test of interest. \n",
    "\n",
    "Here, we will use the `add_custom_env_data()` function to integrate custom environmental data from HYCOM with our detection dataset. This dataset provides finer resolution data for our region of interest than what is available through the Kadlu interface. "
   ]
  },
  {
   "cell_type": "code",
   "execution_count": null,
   "metadata": {},
   "outputs": [],
   "source": [
    "# Specify axes to interpolate (the axes which specify the points to interpolate)\n",
    "axes_to_interpolate = [df_detections_env['Receiver.lat'], \n",
    "                       df_detections_env['Receiver.lon'], \n",
    "                       [d.timestamp() for d in df_detections_env['datetime']],\n",
    "                       df_detections_env['Receiver.depth']]\n",
    "\n",
    "# Specify the variable -> file map. This tells us which data file (net CDF file) contains the data for \n",
    "# a specific variable.  \n",
    "file_map = config.file_map\n",
    "\n",
    "# Add custom environment data\n",
    "df_detections_env = rd.environment.add_custom_env_data(axes_to_interpolate, file_map, df_detections_env)\n",
    "\n",
    "# Look at the new dataset\n",
    "df_detections_env"
   ]
  },
  {
   "cell_type": "markdown",
   "metadata": {},
   "source": [
    "### Add tidal information"
   ]
  },
  {
   "cell_type": "code",
   "execution_count": null,
   "metadata": {},
   "outputs": [],
   "source": [
    "if 'tidal' in config.data.keys():\n",
    "    df_tidal_times = rd.read_ods(config.data.tidal.tidal_times_ods, 1)\n",
    "    df_tidal_flat = rd.flatten_tidal_table(df_tidal_times, year=config.data.tidal.year)\n",
    "    df_tidal_interp = rd.tidal_phase(df_tidal_flat, new_times = df_detections_env.datetime)\n",
    "    df_detections_env = df_detections_env.reset_index().merge(\n",
    "        df_tidal_interp[[\"t2\",\"height\",\"dheight_cm_per_hr\"]], \n",
    "        how=\"left\",\n",
    "        left_on=\"datetime\", right_index=True).set_index(\"index\")\n",
    "\n",
    "    if config.view.tidal:\n",
    "        rd.displaymd(\"\"\"# Determine tidal heights via interpolation of tidal time tables\n",
    "In addition to ocean and weather model data, historic tidal tables are available and used here to provide \n",
    "additional information about environmental cycles that could be factors of influence on the acoustic data.\n",
    "\"\"\")\n",
    "        rd.show_tidal_plots(df_tidal_flat, df_tidal_interp,\n",
    "                            **rd.select_keys(config.data.tidal,\n",
    "                                             ['tidal_times_output_csv', 'tidal_interpolation_output_csv']))"
   ]
  },
  {
   "cell_type": "markdown",
   "metadata": {},
   "source": [
    "### Add further calculated columns and prepare for event/bin row split"
   ]
  },
  {
   "cell_type": "code",
   "execution_count": null,
   "metadata": {},
   "outputs": [],
   "source": [
    "for colname in config.data.calculated_columns:\n",
    "    rd.make_column(df_detections_env, column_name=colname)"
   ]
  },
  {
   "cell_type": "code",
   "execution_count": null,
   "metadata": {},
   "outputs": [],
   "source": [
    "event_bin_dfs = lambda df: rd.split_by_index(df, event_bin_split)\n",
    "detection_events_df, detection_bins_df = event_bin_dfs(df_detections_env)\n",
    "rt_group_data = list(df_detections_env.groupby(['Receiver','Transmitter']))"
   ]
  },
  {
   "cell_type": "code",
   "execution_count": null,
   "metadata": {},
   "outputs": [],
   "source": [
    "columns, colnames, column = rd.get_column_info(config)\n",
    "\n",
    "rd.displaymd(\"# Plots of detection density and interval lengths <br/> against tidal phase (t2) and {}\".format(colnames[column]))"
   ]
  },
  {
   "cell_type": "code",
   "execution_count": null,
   "metadata": {},
   "outputs": [],
   "source": [
    "rd.rcParams.update(config.view.rcParams)\n",
    "params = rd.make_params(config)\n",
    "\n",
    "# column is defined above from config\n",
    "column_name = (column, colnames[column])\n",
    "skipmsg = False\n",
    "\n",
    "# each group contains all detections for a particular receiver/transmitter combination\n",
    "for gn, gr in rt_group_data:\n",
    "    rt_name = mdb.rt_groups.loc[gn, 'Receiver/Transmitter']\n",
    "    if len(gr) < params.min_detections:\n",
    "        if not skipmsg:\n",
    "            rd.displaymd(\"**Skipping receiver/transmitter combinations that have insufficient detections:**\")\n",
    "            skipmsg = True\n",
    "        rd.displaymd(\"{}\".format(rt_name))\n",
    "        continue\n",
    "\n",
    "    events_df, bins_df = event_bin_dfs(gr)\n",
    "\n",
    "    tdfok = bins_df\n",
    "    if tdfok.empty:\n",
    "        rd.displaymd(\"Skipping \")\n",
    "        rd.displaymd(\"{}\".format(rt_name))\n",
    "        continue\n",
    "    rd.process_detections(events_df, params)\n",
    "\n",
    "    if True:\n",
    "        rd.plot_with_dr(tdfok, params, column_name=column_name, rt_name=rt_name)\n",
    "\n",
    "    fig, axs = plt.subplots(nrows=1, ncols=3)\n",
    "    fig.suptitle(rt_name)\n",
    "\n",
    "    rd.plot_tidal_phase(tdfok, ax=axs[0])\n",
    "\n",
    "    rd.plot_with_detection_count(params.out.tdfcount, params.out.tdfmean,\n",
    "                              params, column_name=column_name,\n",
    "                              ax=axs[0])    # interval lengths over date range\n",
    "    if False:\n",
    "        # comparison in single plot\n",
    "        #broken: at.plot_with_detection_interval(tdfok, params, column_name=column_name, ax=axs[1])\n",
    "        ax = params.out.tdfmean.plot(\"t2\",\"interval\", alpha=1, ax=axs[1], c=\"darkgrey\", linewidth=2)\n",
    "    elif False:\n",
    "        # old plot type focussing on interval lengths rather than DR\n",
    "        rd.plot_with_detection_interval_and_rate(events_df, params, column_name=column_name, ax=axs[1])\n",
    "    else:\n",
    "        # stacked plot for comparison of quantities\n",
    "        rd.plot_stack_with_dr(tdfok, params, column_name=column_name, mainax=axs[1])\n",
    "\n",
    "    rd.plot_per_detection_rate(bins_df, params, column_name=column_name, ax=axs[2])\n",
    "    #at.plot_per_detection_density(events_df, params, column_name=column_name, ax=axs[2])\n",
    "\n",
    "    plt.subplots_adjust(wspace=.3)\n"
   ]
  },
  {
   "cell_type": "code",
   "execution_count": null,
   "metadata": {},
   "outputs": [],
   "source": [
    "from range_driver.plotting import heatmaps\n",
    "\n",
    "#det_df = detection_events_df\n",
    "det_df = detection_bins_df\n",
    "\n",
    "features = det_df[['wavedir', 'waveheight', 'waveperiod', 'salinity_bottom', 'salinity', \n",
    "                  'water_v', 'water_v_bottom', 'surf_el', 'water_temp_bottom', 'water_temp', \n",
    "                  'water_u_bottom', 'water_u', 't2', 'height', 'dheight_cm_per_hr', 'interval', \n",
    "                  'water_vel', 'detection_rate']]\n",
    "\n",
    "heatmaps.plot_feature_heatmap(features, method='spearman');"
   ]
  },
  {
   "cell_type": "markdown",
   "metadata": {},
   "source": [
    "## Discussion\n",
    "\n",
    "In the above visual summary, the **H-N** combinations, i.e. high-power, near distance, are the ones where water velocity shows the least effect on variations in detection rate. This confirms expectations and shows promise for the proposed study method. Next steps include:\n",
    "\n",
    "- Continue to work with detection rate (DR) as calculated in a fixed grid of time windows\n",
    "- Compare variations of DR with respect to other environmental variables\n",
    "- Import other environmental variables automatically via data source APIs (ERDDAP, kadlu.fetch)\n",
    "- Compare different scenarios of factor importance depending on environmental setting of the study \n"
   ]
  },
  {
   "cell_type": "markdown",
   "metadata": {},
   "source": [
    "## Acknowledgements\n",
    "\n",
    "The above analysis was performed using [data from OTN](http://members.devel.oceantrack.org/erddap/tabledap/otnunit_aat_detections.html) (provided by Jonathan Pye of OTN), in combination with HYCOM environmental data and tidal data provided by Casey Hilliard (Meridian/Dal), with a synthesized dataset prepared by Matthew Berkowitz (SFU), with project definition and guidance provided by Oliver Kirsebom (Dal) and Ines Hessler (Dal) as part of the [Meridian Network](https://meridian.cs.dal.ca)."
   ]
  },
  {
   "cell_type": "code",
   "execution_count": null,
   "metadata": {},
   "outputs": [],
   "source": []
  }
 ],
 "metadata": {
  "authors": [
   {
    "name": "Steven Bergner (SFU)"
   }
  ],
  "kernelspec": {
   "display_name": "Python 3",
   "language": "python",
   "name": "python3"
  },
  "language_info": {
   "codemirror_mode": {
    "name": "ipython",
    "version": 3
   },
   "file_extension": ".py",
   "mimetype": "text/x-python",
   "name": "python",
   "nbconvert_exporter": "python",
   "pygments_lexer": "ipython3",
   "version": "3.8.8"
  },
  "title": "Acoustic tracking performance analysis",
  "toc": {
   "base_numbering": 1,
   "nav_menu": {},
   "number_sections": true,
   "sideBar": true,
   "skip_h1_title": false,
   "title_cell": "Table of Contents",
   "title_sidebar": "Contents",
   "toc_cell": false,
   "toc_position": {},
   "toc_section_display": true,
   "toc_window_display": false
  },
  "varInspector": {
   "cols": {
    "lenName": 16,
    "lenType": 16,
    "lenVar": 40
   },
   "kernels_config": {
    "python": {
     "delete_cmd_postfix": "",
     "delete_cmd_prefix": "del ",
     "library": "var_list.py",
     "varRefreshCmd": "print(var_dic_list())"
    },
    "r": {
     "delete_cmd_postfix": ") ",
     "delete_cmd_prefix": "rm(",
     "library": "var_list.r",
     "varRefreshCmd": "cat(var_dic_list()) "
    }
   },
   "types_to_exclude": [
    "module",
    "function",
    "builtin_function_or_method",
    "instance",
    "_Feature"
   ],
   "window_display": false
  }
 },
 "nbformat": 4,
 "nbformat_minor": 4
}
