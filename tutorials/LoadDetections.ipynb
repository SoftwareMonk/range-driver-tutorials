{
 "cells": [
  {
   "cell_type": "markdown",
   "id": "f61fb73d",
   "metadata": {},
   "source": [
    "# Load & Process Detection Events\n",
    "The foundations of a range test analysis are the detection event data and metadata you provide to range_driver. \n",
    "\n",
    "At this point it is assumed you've already (1) confirmed the correct data is available in the detection events and (2) the configuration is setup to read the data. \n",
    "\n",
    "## Loading Detection Events\n",
    "The instantiation of the Detections object loads the detection data and metadata specified in the provided configuration. \n",
    "\n",
    "```python\n",
    "dets = rd.Detections(config=config, do_processing=True)\n",
    "```\n",
    "\n",
    "Once this object has been instantiated you can view the raw detections data in DataFrame format. \n",
    "\n",
    "```python\n",
    "dets.detection_df \n",
    "```\n",
    "\n",
    "## Processing Detection Events \n",
    "By default, the instantiation of the detections object performs a number of processing tasks. \n",
    "\n",
    "### Calculate Detection Rate\n",
    "Once this is done, we can view and verify detection events and rates. This helps us confirm proper data configuration. (e.g. interval from the config). \n",
    "\n",
    "### Creates two views of the data (event vs bins)\n",
    "### Discovers the Receiver-Transmitter Groups\n",
    "### Adds Environmental Data\n",
    "#### Environmental data from kadlu\n",
    "#### Custom Environmental Data\n"
   ]
  },
  {
   "cell_type": "code",
   "execution_count": null,
   "id": "ee6d8bf5",
   "metadata": {},
   "outputs": [],
   "source": []
  }
 ],
 "metadata": {
  "kernelspec": {
   "display_name": "Python 3",
   "language": "python",
   "name": "python3"
  },
  "language_info": {
   "codemirror_mode": {
    "name": "ipython",
    "version": 3
   },
   "file_extension": ".py",
   "mimetype": "text/x-python",
   "name": "python",
   "nbconvert_exporter": "python",
   "pygments_lexer": "ipython3",
   "version": "3.8.8"
  }
 },
 "nbformat": 4,
 "nbformat_minor": 5
}
