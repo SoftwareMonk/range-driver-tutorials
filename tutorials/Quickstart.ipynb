{
 "cells": [
  {
   "cell_type": "markdown",
   "id": "4251eb92",
   "metadata": {},
   "source": [
    "# Quickstart Guide\n",
    "To get started, you can adopt a pre-configured setup by copying an example notebook and the YAML config and adjust input file paths and other parameters of the data gathering and analysis steps.\n",
    "\n",
    "Once detections and environmental data are combined in one dataframe, you can use it in your own scripts or notebooks for further analysis with Python or R.\n",
    "\n",
    "You should have already installed `range_driver`. If not, see the [installation instructions]().  \n",
    "\n",
    "## Configuration\n",
    "\n",
    "```yaml\n",
    "example:\n",
    "    data:\n",
    "        'file location'\n",
    "```\n",
    "\n",
    "## Load Detections & Environmental Data\n",
    "\n",
    "## Visualize\n",
    "\n",
    "## Export combined dataset"
   ]
  },
  {
   "cell_type": "code",
   "execution_count": null,
   "id": "0c4d1d44",
   "metadata": {},
   "outputs": [],
   "source": []
  }
 ],
 "metadata": {
  "kernelspec": {
   "display_name": "Python 3",
   "language": "python",
   "name": "python3"
  },
  "language_info": {
   "codemirror_mode": {
    "name": "ipython",
    "version": 3
   },
   "file_extension": ".py",
   "mimetype": "text/x-python",
   "name": "python",
   "nbconvert_exporter": "python",
   "pygments_lexer": "ipython3",
   "version": "3.8.8"
  }
 },
 "nbformat": 4,
 "nbformat_minor": 5
}
